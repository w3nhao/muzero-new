{
 "cells": [
  {
   "cell_type": "code",
   "execution_count": 1,
   "metadata": {},
   "outputs": [
    {
     "name": "stderr",
     "output_type": "stream",
     "text": [
      "/root/miniconda3/envs/rl_test/lib/python3.10/site-packages/tqdm/auto.py:21: TqdmWarning: IProgress not found. Please update jupyter and ipywidgets. See https://ipywidgets.readthedocs.io/en/stable/user_install.html\n",
      "  from .autonotebook import tqdm as notebook_tqdm\n"
     ]
    }
   ],
   "source": [
    "from transformers import DecisionTransformerModel, DecisionTransformerConfig\n",
    "\n",
    "config = DecisionTransformerConfig(\n",
    "    state_dim=17,\n",
    "    act_dim=4,\n",
    "    hidden_size=128,\n",
    "    max_ep_len=4096,\n",
    "    action_tanh=True,\n",
    "    vocab_size=1,\n",
    "    n_positions=1024,\n",
    "    n_layer=2,\n",
    "    n_head=1,\n",
    "    activation_function=\"gelu\",\n",
    "    resid_pdrop=0.1,\n",
    "    embd_pdrop=0.1,\n",
    "    attn_pdrop=0.1,\n",
    "    layer_norm_epsilon=1e-5,\n",
    "    initializer_range=0.02, \n",
    "    scale_attn_weights=True,\n",
    "    bos_token_id=50256,\n",
    "    eos_token_id=50256,\n",
    "    scale_attn_by_inverse_layer_idx=False,\n",
    "    reorder_and_upcast_attn=False)"
   ]
  },
  {
   "cell_type": "code",
   "execution_count": 2,
   "metadata": {},
   "outputs": [],
   "source": [
    "model = DecisionTransformerModel(config)"
   ]
  },
  {
   "cell_type": "code",
   "execution_count": 3,
   "metadata": {},
   "outputs": [
    {
     "data": {
      "text/plain": [
       "DecisionTransformerModel(\n",
       "  (encoder): DecisionTransformerGPT2Model(\n",
       "    (wte): Embedding(1, 128)\n",
       "    (wpe): Embedding(1024, 128)\n",
       "    (drop): Dropout(p=0.1, inplace=False)\n",
       "    (h): ModuleList(\n",
       "      (0-1): 2 x DecisionTransformerGPT2Block(\n",
       "        (ln_1): LayerNorm((128,), eps=1e-05, elementwise_affine=True)\n",
       "        (attn): DecisionTransformerGPT2Attention(\n",
       "          (c_attn): Conv1D()\n",
       "          (c_proj): Conv1D()\n",
       "          (attn_dropout): Dropout(p=0.1, inplace=False)\n",
       "          (resid_dropout): Dropout(p=0.1, inplace=False)\n",
       "        )\n",
       "        (ln_2): LayerNorm((128,), eps=1e-05, elementwise_affine=True)\n",
       "        (mlp): DecisionTransformerGPT2MLP(\n",
       "          (c_fc): Conv1D()\n",
       "          (c_proj): Conv1D()\n",
       "          (act): GELUActivation()\n",
       "          (dropout): Dropout(p=0.1, inplace=False)\n",
       "        )\n",
       "      )\n",
       "    )\n",
       "    (ln_f): LayerNorm((128,), eps=1e-05, elementwise_affine=True)\n",
       "  )\n",
       "  (embed_timestep): Embedding(4096, 128)\n",
       "  (embed_return): Linear(in_features=1, out_features=128, bias=True)\n",
       "  (embed_state): Linear(in_features=17, out_features=128, bias=True)\n",
       "  (embed_action): Linear(in_features=4, out_features=128, bias=True)\n",
       "  (embed_ln): LayerNorm((128,), eps=1e-05, elementwise_affine=True)\n",
       "  (predict_state): Linear(in_features=128, out_features=17, bias=True)\n",
       "  (predict_action): Sequential(\n",
       "    (0): Linear(in_features=128, out_features=4, bias=True)\n",
       "    (1): Tanh()\n",
       "  )\n",
       "  (predict_return): Linear(in_features=128, out_features=1, bias=True)\n",
       ")"
      ]
     },
     "execution_count": 3,
     "metadata": {},
     "output_type": "execute_result"
    }
   ],
   "source": [
    "model"
   ]
  }
 ],
 "metadata": {
  "kernelspec": {
   "display_name": "rl_test",
   "language": "python",
   "name": "python3"
  },
  "language_info": {
   "codemirror_mode": {
    "name": "ipython",
    "version": 3
   },
   "file_extension": ".py",
   "mimetype": "text/x-python",
   "name": "python",
   "nbconvert_exporter": "python",
   "pygments_lexer": "ipython3",
   "version": "3.10.0"
  }
 },
 "nbformat": 4,
 "nbformat_minor": 2
}
